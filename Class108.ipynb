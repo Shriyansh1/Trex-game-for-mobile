{
  "nbformat": 4,
  "nbformat_minor": 0,
  "metadata": {
    "colab": {
      "provenance": [],
      "authorship_tag": "ABX9TyMfD0KDzP3GXRO+ejMPeYoh",
      "include_colab_link": true
    },
    "kernelspec": {
      "name": "python3",
      "display_name": "Python 3"
    },
    "language_info": {
      "name": "python"
    }
  },
  "cells": [
    {
      "cell_type": "markdown",
      "metadata": {
        "id": "view-in-github",
        "colab_type": "text"
      },
      "source": [
        "<a href=\"https://colab.research.google.com/github/Shriyansh1/Trex-game-for-mobile/blob/main/Class108.ipynb\" target=\"_parent\"><img src=\"https://colab.research.google.com/assets/colab-badge.svg\" alt=\"Open In Colab\"/></a>"
      ]
    },
    {
      "cell_type": "markdown",
      "source": [
        "# *Nested for loop*"
      ],
      "metadata": {
        "id": "KY1-k8kR6Ldv"
      }
    },
    {
      "cell_type": "code",
      "execution_count": null,
      "metadata": {
        "colab": {
          "base_uri": "https://localhost:8080/"
        },
        "id": "7R4kau2k6FpW",
        "outputId": "6031bea7-28ba-4374-f1fd-fc0c2f396969"
      },
      "outputs": [
        {
          "output_type": "stream",
          "name": "stdout",
          "text": [
            " Enter the number of rows you want 10\n",
            "* \n",
            "* * \n",
            "* * * \n",
            "* * * * \n",
            "* * * * * \n",
            "* * * * * * \n",
            "* * * * * * * \n",
            "* * * * * * * * \n",
            "* * * * * * * * * \n",
            "* * * * * * * * * * \n"
          ]
        }
      ],
      "source": [
        "row=int(input(\" Enter the number of rows you want \"))\n",
        "for xyz in range(0,row):\n",
        "  for xy in range(0,xyz+1):\n",
        "    print('*',end=\" \")\n",
        "  print()"
      ]
    },
    {
      "cell_type": "code",
      "source": [
        "row=int(input(\" Enter the number of rows you want \"))\n",
        "for xyz in range(1,row+1):\n",
        "  for xy in range(1,xyz+1):\n",
        "    print(xy,end=\" \")\n",
        "  print()"
      ],
      "metadata": {
        "colab": {
          "base_uri": "https://localhost:8080/"
        },
        "id": "RTQqxJuQ--yk",
        "outputId": "deb2edd0-0a78-474f-87c6-7459ea438308"
      },
      "execution_count": null,
      "outputs": [
        {
          "output_type": "stream",
          "name": "stdout",
          "text": [
            " Enter the number of rows you want 6\n",
            "1 \n",
            "1 2 \n",
            "1 2 3 \n",
            "1 2 3 4 \n",
            "1 2 3 4 5 \n",
            "1 2 3 4 5 6 \n"
          ]
        }
      ]
    },
    {
      "cell_type": "code",
      "source": [
        "row=int(input(\" Enter the number of rows you want \"))\n",
        "for xyz in range(0,row):\n",
        "  for xy in range(row,xyz,-1):\n",
        "    print('*',end=\" \")\n",
        "  print()"
      ],
      "metadata": {
        "colab": {
          "base_uri": "https://localhost:8080/"
        },
        "id": "dzh2_fJT_Z5L",
        "outputId": "c3f58992-30de-43be-db10-c9c6b6e4ac17"
      },
      "execution_count": null,
      "outputs": [
        {
          "output_type": "stream",
          "name": "stdout",
          "text": [
            " Enter the number of rows you want 7\n",
            "* * * * * * * \n",
            "* * * * * * \n",
            "* * * * * \n",
            "* * * * \n",
            "* * * \n",
            "* * \n",
            "* \n"
          ]
        }
      ]
    },
    {
      "cell_type": "code",
      "source": [
        "for i in range(0,5):\n",
        "  for j in range(5,i,-1):\n",
        "    print(\"row=\",i,\"column=\",j,end=\" \")\n",
        "  print()"
      ],
      "metadata": {
        "colab": {
          "base_uri": "https://localhost:8080/"
        },
        "id": "VP6WP61F_0bo",
        "outputId": "8c9cd822-58b1-472d-9208-29e0071ffa8b"
      },
      "execution_count": null,
      "outputs": [
        {
          "output_type": "stream",
          "name": "stdout",
          "text": [
            "row= 0 column= 5 row= 0 column= 4 row= 0 column= 3 row= 0 column= 2 row= 0 column= 1 \n",
            "row= 1 column= 5 row= 1 column= 4 row= 1 column= 3 row= 1 column= 2 \n",
            "row= 2 column= 5 row= 2 column= 4 row= 2 column= 3 \n",
            "row= 3 column= 5 row= 3 column= 4 \n",
            "row= 4 column= 5 \n"
          ]
        }
      ]
    },
    {
      "cell_type": "code",
      "source": [
        "name=input(\" Enter your name \")\n",
        "length= len(name)\n",
        "for i in range(0,length):\n",
        "  for j in range(0,length+1):\n",
        "    if(i==j):\n",
        "      print(name[j],sep=\" \",end=\" \")\n",
        "    else:\n",
        "      print('*',sep=\" \",end=\" \")\n",
        "  print()"
      ],
      "metadata": {
        "id": "LXO1kMT1AuC9",
        "colab": {
          "base_uri": "https://localhost:8080/"
        },
        "outputId": "63456c84-b445-44f7-9f71-37e33cd21ec3"
      },
      "execution_count": 34,
      "outputs": [
        {
          "output_type": "stream",
          "name": "stdout",
          "text": [
            " Enter your name shriyansh\n",
            "s * * * * * * * * * \n",
            "* h * * * * * * * * \n",
            "* * r * * * * * * * \n",
            "* * * i * * * * * * \n",
            "* * * * y * * * * * \n",
            "* * * * * a * * * * \n",
            "* * * * * * n * * * \n",
            "* * * * * * * s * * \n",
            "* * * * * * * * h * \n"
          ]
        }
      ]
    }
  ]
}